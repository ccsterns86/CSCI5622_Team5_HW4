{
 "cells": [
  {
   "cell_type": "markdown",
   "metadata": {
    "vscode": {
     "languageId": "plaintext"
    }
   },
   "source": [
    "# CSCI 5622\n",
    "## Homework 4: Designing ML Models for Real-World Problems\n",
    "### Team 5 - Study 2\n",
    "##### Cassie Sterns, Saksham Khatwani, Jasdeep Singh, and Nirmit Karkera"
   ]
  },
  {
   "cell_type": "code",
   "execution_count": 1,
   "metadata": {},
   "outputs": [],
   "source": [
    "import pandas as pd\n",
    "import numpy as np\n",
    "import statistics as stat\n",
    "import seaborn as sns\n",
    "import matplotlib.pyplot as plt\n",
    "import random\n",
    "import re"
   ]
  },
  {
   "cell_type": "code",
   "execution_count": 2,
   "metadata": {},
   "outputs": [],
   "source": [
    "# Reading in data\n",
    "prosodic_file = \"prosodic_features.csv\"\n",
    "scores_file = \"scores.csv\"\n",
    "transcript_file = \"transcripts.csv\"\n",
    "\n",
    "# Read csvs into a file\n",
    "prosodic_data = pd.read_csv(prosodic_file)\n",
    "scores_data = pd.read_csv(scores_file)\n",
    "transcript_data = pd.read_csv(transcript_file)\n",
    "\n",
    "# Add a column that corresponds to participant for easy splitting for prosodic data\n",
    "prosodic_data['Participant'] = prosodic_data['participant&question'].str.extract(r'^(PP?\\d+)')\n",
    "prosodic_data['Participant'] = prosodic_data['Participant'].str.lower()\n",
    "# Make the entire transcript lower case\n",
    "transcript_data['Transcript'] = transcript_data['Transcript'].str.lower()\n"
   ]
  },
  {
   "cell_type": "code",
   "execution_count": 3,
   "metadata": {},
   "outputs": [
    {
     "name": "stdout",
     "output_type": "stream",
     "text": [
      "Fold 1: ['27', '52', '33', '32', '55', '59', '74', '6', '43', '5', '72', '77', '84', '24']\n",
      "\tLength:  14\n",
      "Fold 2: ['15', '81', '83', '3', '17', '7', '37', '1', '8', '60', '80', '78', '30', '64']\n",
      "\tLength:  14\n",
      "Fold 3: ['71', '61', '50', '76', '10', '70', '12', '21', '13', '67', '86', '62', '49', '69']\n",
      "\tLength:  14\n",
      "Fold 4: ['44', '22', '63', '29', '42', '11', '79', '25', '89', '57', '31', '66', '20', '47']\n",
      "\tLength:  14\n",
      "Fold 5: ['85', '35', '48', '56', '58', '53', '14', '16', '45', '73', '65', '34', '4']\n",
      "\tLength:  13\n"
     ]
    }
   ],
   "source": [
    "# Splitting the participants into 5 folds\n",
    "num_folds = 5\n",
    "\n",
    "# Grab participant numbers from the scores csv file\n",
    "interviews = scores_data['Participant'].unique()\n",
    "participants = list(set([re.sub(r'^pp?|q\\d+', '', item) for item in interviews]))\n",
    "random.shuffle(participants)\n",
    "participant_folds = [participants[i::num_folds] for i in range(num_folds)]\n",
    "\n",
    "for i, fold in enumerate(participant_folds):\n",
    "  print(f\"Fold {i + 1}: {fold}\")\n",
    "  print(\"\\tLength: \", len(fold))\n",
    "\n",
    "# Grab all the correct interview names associated with each participant\n",
    "interview_folds = []\n",
    "for fold in participant_folds:\n",
    "  interview_folds.append([item for num in fold for item in (f\"p{num}\", f\"pp{num}\")])\n"
   ]
  },
  {
   "cell_type": "code",
   "execution_count": 4,
   "metadata": {},
   "outputs": [],
   "source": [
    "def get_data_splits(data, fold_number):\n",
    "    \"\"\"\n",
    "    Split data into training, validation, and testing sets based on a specified fold.\n",
    "    \n",
    "    Parameters:\n",
    "        data (DataFrame): The complete dataset.\n",
    "        fold_number (int): The fold to use for testing (0-based index).\n",
    "        \n",
    "    Returns:\n",
    "        tuple: (training_set, validation_set, testing_set)\n",
    "    \"\"\"\n",
    "    # Quick check on fold number\n",
    "    assert 0 <= fold_number < len(interview_folds), \"Fold_number must be between 0 and len(folds) - 1\"\n",
    "\n",
    "    # Split the data\n",
    "    test_set = data[data['Participant'].isin( interview_folds[fold_number] )]\n",
    "    val_set = data[data['Participant'].isin( interview_folds[(fold_number + 1) % len(interview_folds)] )]\n",
    "    train_set_parts = [item for i, fold in enumerate(interview_folds) if i not in [fold_number, (fold_number + 1) % len(interview_folds)] for item in fold]\n",
    "    train_set = data[data['Participant'].isin(train_set_parts)]\n",
    "    \n",
    "    return train_set, val_set, test_set\n"
   ]
  },
  {
   "cell_type": "code",
   "execution_count": 5,
   "metadata": {},
   "outputs": [],
   "source": [
    "train_set, val_set, test_set = get_data_splits(prosodic_data, 0)\n",
    "# print(\"Prosodic Data: \")\n",
    "# train_set.head()\n",
    "train_set, val_set, test_set = get_data_splits(scores_data, 0)\n",
    "# print(\"Scores Data: \")\n",
    "# test_set.head()\n",
    "train_set, val_set, test_set = get_data_splits(transcript_data, 0)\n",
    "# print(\"Transcript Data: \")\n",
    "# test_set.head()"
   ]
  },
  {
   "cell_type": "markdown",
   "metadata": {},
   "source": [
    "# (a) Extracting language features"
   ]
  },
  {
   "cell_type": "code",
   "execution_count": 6,
   "metadata": {},
   "outputs": [
    {
     "name": "stderr",
     "output_type": "stream",
     "text": [
      "[nltk_data] Downloading package punkt_tab to\n",
      "[nltk_data]     C:\\Users\\ccste\\AppData\\Roaming\\nltk_data...\n",
      "[nltk_data]   Package punkt_tab is already up-to-date!\n",
      "[nltk_data] Downloading package averaged_perceptron_tagger_eng to\n",
      "[nltk_data]     C:\\Users\\ccste\\AppData\\Roaming\\nltk_data...\n",
      "[nltk_data]   Package averaged_perceptron_tagger_eng is already up-to-\n",
      "[nltk_data]       date!\n",
      "[nltk_data] Downloading package vader_lexicon to\n",
      "[nltk_data]     C:\\Users\\ccste\\AppData\\Roaming\\nltk_data...\n",
      "[nltk_data]   Package vader_lexicon is already up-to-date!\n"
     ]
    },
    {
     "data": {
      "text/plain": [
       "True"
      ]
     },
     "execution_count": 6,
     "metadata": {},
     "output_type": "execute_result"
    }
   ],
   "source": [
    "from sklearn.feature_extraction.text import CountVectorizer\n",
    "from sklearn.feature_extraction.text import TfidfVectorizer\n",
    "import nltk\n",
    "from nltk.tokenize import word_tokenize\n",
    "from nltk import pos_tag\n",
    "from vaderSentiment.vaderSentiment import SentimentIntensityAnalyzer\n",
    "import torch\n",
    "from transformers import BertTokenizer, BertModel\n",
    "\n",
    "nltk.download('punkt_tab')  # Tokenizer\n",
    "nltk.download('averaged_perceptron_tagger_eng')  # POS Tagger\n",
    "nltk.download('vader_lexicon') # Vader"
   ]
  },
  {
   "cell_type": "markdown",
   "metadata": {},
   "source": [
    "### Syntactic Vectorization with CountVectorizer"
   ]
  },
  {
   "cell_type": "code",
   "execution_count": 31,
   "metadata": {},
   "outputs": [
    {
     "data": {
      "text/html": [
       "<div>\n",
       "<style scoped>\n",
       "    .dataframe tbody tr th:only-of-type {\n",
       "        vertical-align: middle;\n",
       "    }\n",
       "\n",
       "    .dataframe tbody tr th {\n",
       "        vertical-align: top;\n",
       "    }\n",
       "\n",
       "    .dataframe thead th {\n",
       "        text-align: right;\n",
       "    }\n",
       "</style>\n",
       "<table border=\"1\" class=\"dataframe\">\n",
       "  <thead>\n",
       "    <tr style=\"text-align: right;\">\n",
       "      <th></th>\n",
       "      <th>000</th>\n",
       "      <th>10</th>\n",
       "      <th>100</th>\n",
       "      <th>13</th>\n",
       "      <th>14</th>\n",
       "      <th>15</th>\n",
       "      <th>16</th>\n",
       "      <th>18</th>\n",
       "      <th>20</th>\n",
       "      <th>200</th>\n",
       "      <th>...</th>\n",
       "      <th>yep</th>\n",
       "      <th>yes</th>\n",
       "      <th>yo</th>\n",
       "      <th>yoga</th>\n",
       "      <th>york</th>\n",
       "      <th>young</th>\n",
       "      <th>younger</th>\n",
       "      <th>youngest</th>\n",
       "      <th>yup</th>\n",
       "      <th>zone</th>\n",
       "    </tr>\n",
       "  </thead>\n",
       "  <tbody>\n",
       "    <tr>\n",
       "      <th>0</th>\n",
       "      <td>1</td>\n",
       "      <td>0</td>\n",
       "      <td>0</td>\n",
       "      <td>0</td>\n",
       "      <td>0</td>\n",
       "      <td>0</td>\n",
       "      <td>0</td>\n",
       "      <td>0</td>\n",
       "      <td>0</td>\n",
       "      <td>0</td>\n",
       "      <td>...</td>\n",
       "      <td>0</td>\n",
       "      <td>1</td>\n",
       "      <td>0</td>\n",
       "      <td>0</td>\n",
       "      <td>0</td>\n",
       "      <td>0</td>\n",
       "      <td>0</td>\n",
       "      <td>0</td>\n",
       "      <td>0</td>\n",
       "      <td>0</td>\n",
       "    </tr>\n",
       "    <tr>\n",
       "      <th>1</th>\n",
       "      <td>0</td>\n",
       "      <td>0</td>\n",
       "      <td>0</td>\n",
       "      <td>0</td>\n",
       "      <td>0</td>\n",
       "      <td>0</td>\n",
       "      <td>0</td>\n",
       "      <td>0</td>\n",
       "      <td>0</td>\n",
       "      <td>0</td>\n",
       "      <td>...</td>\n",
       "      <td>0</td>\n",
       "      <td>0</td>\n",
       "      <td>0</td>\n",
       "      <td>0</td>\n",
       "      <td>0</td>\n",
       "      <td>0</td>\n",
       "      <td>0</td>\n",
       "      <td>0</td>\n",
       "      <td>0</td>\n",
       "      <td>0</td>\n",
       "    </tr>\n",
       "    <tr>\n",
       "      <th>2</th>\n",
       "      <td>0</td>\n",
       "      <td>0</td>\n",
       "      <td>0</td>\n",
       "      <td>0</td>\n",
       "      <td>0</td>\n",
       "      <td>0</td>\n",
       "      <td>0</td>\n",
       "      <td>0</td>\n",
       "      <td>0</td>\n",
       "      <td>0</td>\n",
       "      <td>...</td>\n",
       "      <td>0</td>\n",
       "      <td>0</td>\n",
       "      <td>0</td>\n",
       "      <td>0</td>\n",
       "      <td>0</td>\n",
       "      <td>0</td>\n",
       "      <td>0</td>\n",
       "      <td>0</td>\n",
       "      <td>0</td>\n",
       "      <td>0</td>\n",
       "    </tr>\n",
       "    <tr>\n",
       "      <th>3</th>\n",
       "      <td>0</td>\n",
       "      <td>0</td>\n",
       "      <td>0</td>\n",
       "      <td>0</td>\n",
       "      <td>0</td>\n",
       "      <td>0</td>\n",
       "      <td>0</td>\n",
       "      <td>0</td>\n",
       "      <td>0</td>\n",
       "      <td>0</td>\n",
       "      <td>...</td>\n",
       "      <td>0</td>\n",
       "      <td>0</td>\n",
       "      <td>0</td>\n",
       "      <td>0</td>\n",
       "      <td>0</td>\n",
       "      <td>0</td>\n",
       "      <td>0</td>\n",
       "      <td>0</td>\n",
       "      <td>0</td>\n",
       "      <td>0</td>\n",
       "    </tr>\n",
       "    <tr>\n",
       "      <th>4</th>\n",
       "      <td>0</td>\n",
       "      <td>0</td>\n",
       "      <td>0</td>\n",
       "      <td>0</td>\n",
       "      <td>0</td>\n",
       "      <td>0</td>\n",
       "      <td>0</td>\n",
       "      <td>0</td>\n",
       "      <td>0</td>\n",
       "      <td>0</td>\n",
       "      <td>...</td>\n",
       "      <td>0</td>\n",
       "      <td>0</td>\n",
       "      <td>0</td>\n",
       "      <td>0</td>\n",
       "      <td>0</td>\n",
       "      <td>0</td>\n",
       "      <td>0</td>\n",
       "      <td>0</td>\n",
       "      <td>0</td>\n",
       "      <td>0</td>\n",
       "    </tr>\n",
       "  </tbody>\n",
       "</table>\n",
       "<p>5 rows × 2464 columns</p>\n",
       "</div>"
      ],
      "text/plain": [
       "   000  10  100  13  14  15  16  18  20  200  ...  yep  yes  yo  yoga  york  \\\n",
       "0    1   0    0   0   0   0   0   0   0    0  ...    0    1   0     0     0   \n",
       "1    0   0    0   0   0   0   0   0   0    0  ...    0    0   0     0     0   \n",
       "2    0   0    0   0   0   0   0   0   0    0  ...    0    0   0     0     0   \n",
       "3    0   0    0   0   0   0   0   0   0    0  ...    0    0   0     0     0   \n",
       "4    0   0    0   0   0   0   0   0   0    0  ...    0    0   0     0     0   \n",
       "\n",
       "   young  younger  youngest  yup  zone  \n",
       "0      0        0         0    0     0  \n",
       "1      0        0         0    0     0  \n",
       "2      0        0         0    0     0  \n",
       "3      0        0         0    0     0  \n",
       "4      0        0         0    0     0  \n",
       "\n",
       "[5 rows x 2464 columns]"
      ]
     },
     "execution_count": 31,
     "metadata": {},
     "output_type": "execute_result"
    }
   ],
   "source": [
    "# Syntactic vectorizer: CountVectorizer\n",
    "\n",
    "# Remove common stop words in english and ignore words that appear fewer than 2 times\n",
    "vectorizer = CountVectorizer(stop_words='english', min_df=2) \n",
    "X = vectorizer.fit_transform(transcript_data['Transcript'])\n",
    "\n",
    "# Convert from sparse X matrix to a denser one for easy use\n",
    "X_dense = X.toarray()\n",
    "feature_names_count = vectorizer.get_feature_names_out()\n",
    "\n",
    "word_count = pd.DataFrame(X_dense, columns=feature_names_count)\n",
    "\n",
    "word_count.head()"
   ]
  },
  {
   "cell_type": "markdown",
   "metadata": {},
   "source": [
    "### Syntactic Vectorization with TFIDF Vectorizer"
   ]
  },
  {
   "cell_type": "code",
   "execution_count": 33,
   "metadata": {},
   "outputs": [
    {
     "data": {
      "text/html": [
       "<div>\n",
       "<style scoped>\n",
       "    .dataframe tbody tr th:only-of-type {\n",
       "        vertical-align: middle;\n",
       "    }\n",
       "\n",
       "    .dataframe tbody tr th {\n",
       "        vertical-align: top;\n",
       "    }\n",
       "\n",
       "    .dataframe thead th {\n",
       "        text-align: right;\n",
       "    }\n",
       "</style>\n",
       "<table border=\"1\" class=\"dataframe\">\n",
       "  <thead>\n",
       "    <tr style=\"text-align: right;\">\n",
       "      <th></th>\n",
       "      <th>000</th>\n",
       "      <th>10</th>\n",
       "      <th>100</th>\n",
       "      <th>13</th>\n",
       "      <th>14</th>\n",
       "      <th>15</th>\n",
       "      <th>16</th>\n",
       "      <th>18</th>\n",
       "      <th>20</th>\n",
       "      <th>200</th>\n",
       "      <th>...</th>\n",
       "      <th>yep</th>\n",
       "      <th>yes</th>\n",
       "      <th>yo</th>\n",
       "      <th>yoga</th>\n",
       "      <th>york</th>\n",
       "      <th>young</th>\n",
       "      <th>younger</th>\n",
       "      <th>youngest</th>\n",
       "      <th>yup</th>\n",
       "      <th>zone</th>\n",
       "    </tr>\n",
       "  </thead>\n",
       "  <tbody>\n",
       "    <tr>\n",
       "      <th>0</th>\n",
       "      <td>0.068513</td>\n",
       "      <td>0.0</td>\n",
       "      <td>0.0</td>\n",
       "      <td>0.0</td>\n",
       "      <td>0.0</td>\n",
       "      <td>0.0</td>\n",
       "      <td>0.0</td>\n",
       "      <td>0.0</td>\n",
       "      <td>0.0</td>\n",
       "      <td>0.0</td>\n",
       "      <td>...</td>\n",
       "      <td>0.0</td>\n",
       "      <td>0.031465</td>\n",
       "      <td>0.0</td>\n",
       "      <td>0.0</td>\n",
       "      <td>0.0</td>\n",
       "      <td>0.0</td>\n",
       "      <td>0.0</td>\n",
       "      <td>0.0</td>\n",
       "      <td>0.0</td>\n",
       "      <td>0.0</td>\n",
       "    </tr>\n",
       "    <tr>\n",
       "      <th>1</th>\n",
       "      <td>0.000000</td>\n",
       "      <td>0.0</td>\n",
       "      <td>0.0</td>\n",
       "      <td>0.0</td>\n",
       "      <td>0.0</td>\n",
       "      <td>0.0</td>\n",
       "      <td>0.0</td>\n",
       "      <td>0.0</td>\n",
       "      <td>0.0</td>\n",
       "      <td>0.0</td>\n",
       "      <td>...</td>\n",
       "      <td>0.0</td>\n",
       "      <td>0.000000</td>\n",
       "      <td>0.0</td>\n",
       "      <td>0.0</td>\n",
       "      <td>0.0</td>\n",
       "      <td>0.0</td>\n",
       "      <td>0.0</td>\n",
       "      <td>0.0</td>\n",
       "      <td>0.0</td>\n",
       "      <td>0.0</td>\n",
       "    </tr>\n",
       "    <tr>\n",
       "      <th>2</th>\n",
       "      <td>0.000000</td>\n",
       "      <td>0.0</td>\n",
       "      <td>0.0</td>\n",
       "      <td>0.0</td>\n",
       "      <td>0.0</td>\n",
       "      <td>0.0</td>\n",
       "      <td>0.0</td>\n",
       "      <td>0.0</td>\n",
       "      <td>0.0</td>\n",
       "      <td>0.0</td>\n",
       "      <td>...</td>\n",
       "      <td>0.0</td>\n",
       "      <td>0.000000</td>\n",
       "      <td>0.0</td>\n",
       "      <td>0.0</td>\n",
       "      <td>0.0</td>\n",
       "      <td>0.0</td>\n",
       "      <td>0.0</td>\n",
       "      <td>0.0</td>\n",
       "      <td>0.0</td>\n",
       "      <td>0.0</td>\n",
       "    </tr>\n",
       "    <tr>\n",
       "      <th>3</th>\n",
       "      <td>0.000000</td>\n",
       "      <td>0.0</td>\n",
       "      <td>0.0</td>\n",
       "      <td>0.0</td>\n",
       "      <td>0.0</td>\n",
       "      <td>0.0</td>\n",
       "      <td>0.0</td>\n",
       "      <td>0.0</td>\n",
       "      <td>0.0</td>\n",
       "      <td>0.0</td>\n",
       "      <td>...</td>\n",
       "      <td>0.0</td>\n",
       "      <td>0.000000</td>\n",
       "      <td>0.0</td>\n",
       "      <td>0.0</td>\n",
       "      <td>0.0</td>\n",
       "      <td>0.0</td>\n",
       "      <td>0.0</td>\n",
       "      <td>0.0</td>\n",
       "      <td>0.0</td>\n",
       "      <td>0.0</td>\n",
       "    </tr>\n",
       "    <tr>\n",
       "      <th>4</th>\n",
       "      <td>0.000000</td>\n",
       "      <td>0.0</td>\n",
       "      <td>0.0</td>\n",
       "      <td>0.0</td>\n",
       "      <td>0.0</td>\n",
       "      <td>0.0</td>\n",
       "      <td>0.0</td>\n",
       "      <td>0.0</td>\n",
       "      <td>0.0</td>\n",
       "      <td>0.0</td>\n",
       "      <td>...</td>\n",
       "      <td>0.0</td>\n",
       "      <td>0.000000</td>\n",
       "      <td>0.0</td>\n",
       "      <td>0.0</td>\n",
       "      <td>0.0</td>\n",
       "      <td>0.0</td>\n",
       "      <td>0.0</td>\n",
       "      <td>0.0</td>\n",
       "      <td>0.0</td>\n",
       "      <td>0.0</td>\n",
       "    </tr>\n",
       "  </tbody>\n",
       "</table>\n",
       "<p>5 rows × 2464 columns</p>\n",
       "</div>"
      ],
      "text/plain": [
       "        000   10  100   13   14   15   16   18   20  200  ...  yep       yes  \\\n",
       "0  0.068513  0.0  0.0  0.0  0.0  0.0  0.0  0.0  0.0  0.0  ...  0.0  0.031465   \n",
       "1  0.000000  0.0  0.0  0.0  0.0  0.0  0.0  0.0  0.0  0.0  ...  0.0  0.000000   \n",
       "2  0.000000  0.0  0.0  0.0  0.0  0.0  0.0  0.0  0.0  0.0  ...  0.0  0.000000   \n",
       "3  0.000000  0.0  0.0  0.0  0.0  0.0  0.0  0.0  0.0  0.0  ...  0.0  0.000000   \n",
       "4  0.000000  0.0  0.0  0.0  0.0  0.0  0.0  0.0  0.0  0.0  ...  0.0  0.000000   \n",
       "\n",
       "    yo  yoga  york  young  younger  youngest  yup  zone  \n",
       "0  0.0   0.0   0.0    0.0      0.0       0.0  0.0   0.0  \n",
       "1  0.0   0.0   0.0    0.0      0.0       0.0  0.0   0.0  \n",
       "2  0.0   0.0   0.0    0.0      0.0       0.0  0.0   0.0  \n",
       "3  0.0   0.0   0.0    0.0      0.0       0.0  0.0   0.0  \n",
       "4  0.0   0.0   0.0    0.0      0.0       0.0  0.0   0.0  \n",
       "\n",
       "[5 rows x 2464 columns]"
      ]
     },
     "execution_count": 33,
     "metadata": {},
     "output_type": "execute_result"
    }
   ],
   "source": [
    "# Syntactic vectorizer: TFIDF Vectorizer\n",
    "tfidf = TfidfVectorizer(stop_words='english', min_df=2)\n",
    "tfidf_matrix = tfidf.fit_transform(transcript_data['Transcript'])\n",
    "feature_names_tf = tfidf.get_feature_names_out()\n",
    "tfidf_count = pd.DataFrame(tfidf_matrix.toarray(), columns=feature_names_tf)\n",
    "\n",
    "tfidf_count.head()"
   ]
  },
  {
   "cell_type": "markdown",
   "metadata": {},
   "source": [
    "### Statistical Features (word count and average word length)"
   ]
  },
  {
   "cell_type": "code",
   "execution_count": 21,
   "metadata": {},
   "outputs": [
    {
     "data": {
      "text/html": [
       "<div>\n",
       "<style scoped>\n",
       "    .dataframe tbody tr th:only-of-type {\n",
       "        vertical-align: middle;\n",
       "    }\n",
       "\n",
       "    .dataframe tbody tr th {\n",
       "        vertical-align: top;\n",
       "    }\n",
       "\n",
       "    .dataframe thead th {\n",
       "        text-align: right;\n",
       "    }\n",
       "</style>\n",
       "<table border=\"1\" class=\"dataframe\">\n",
       "  <thead>\n",
       "    <tr style=\"text-align: right;\">\n",
       "      <th></th>\n",
       "      <th>word count</th>\n",
       "      <th>avg word length</th>\n",
       "    </tr>\n",
       "  </thead>\n",
       "  <tbody>\n",
       "    <tr>\n",
       "      <th>0</th>\n",
       "      <td>613</td>\n",
       "      <td>4.438825</td>\n",
       "    </tr>\n",
       "    <tr>\n",
       "      <th>1</th>\n",
       "      <td>1118</td>\n",
       "      <td>4.510733</td>\n",
       "    </tr>\n",
       "    <tr>\n",
       "      <th>2</th>\n",
       "      <td>751</td>\n",
       "      <td>4.528628</td>\n",
       "    </tr>\n",
       "    <tr>\n",
       "      <th>3</th>\n",
       "      <td>717</td>\n",
       "      <td>4.281729</td>\n",
       "    </tr>\n",
       "    <tr>\n",
       "      <th>4</th>\n",
       "      <td>645</td>\n",
       "      <td>4.688372</td>\n",
       "    </tr>\n",
       "  </tbody>\n",
       "</table>\n",
       "</div>"
      ],
      "text/plain": [
       "   word count  avg word length\n",
       "0         613         4.438825\n",
       "1        1118         4.510733\n",
       "2         751         4.528628\n",
       "3         717         4.281729\n",
       "4         645         4.688372"
      ]
     },
     "execution_count": 21,
     "metadata": {},
     "output_type": "execute_result"
    }
   ],
   "source": [
    "# Statistical Features (word count and average word length)\n",
    "\n",
    "# Word Count for the entire interview\n",
    "features = pd.DataFrame()\n",
    "features['word count'] = transcript_data['Transcript'].apply(lambda x: len(x.split()))\n",
    "\n",
    "# Average word length for the interview\n",
    "features['avg word length'] = transcript_data['Transcript'].apply(lambda x: sum(len(word) for word in x.split()) / len(x.split()))\n",
    "\n",
    "features.head()"
   ]
  },
  {
   "cell_type": "markdown",
   "metadata": {},
   "source": [
    "### Part of Speech Tagging"
   ]
  },
  {
   "cell_type": "code",
   "execution_count": 22,
   "metadata": {},
   "outputs": [
    {
     "data": {
      "text/plain": [
       "0    [(interviewer, NN), (:, :), (so, RB), (how, WR...\n",
       "1    [(interviewer, NN), (:, :), (so, RB), (how, WR...\n",
       "2    [(interviewer, NN), (:, :), (so, RB), (tell, V...\n",
       "3    [(interviewer, NN), (:, :), (so, RB), (how, WR...\n",
       "4    [(interviewer, NN), (:, :), (how, WRB), (are, ...\n",
       "Name: pos tagging, dtype: object"
      ]
     },
     "execution_count": 22,
     "metadata": {},
     "output_type": "execute_result"
    }
   ],
   "source": [
    "# Part of Speech Tagging using NLTK\n",
    "\n",
    "features['pos tagging'] = transcript_data['Transcript'].apply(lambda x: pos_tag(word_tokenize(x)))\n",
    "\n",
    "features['pos tagging'].head()\n",
    "# NN: Noun singular\n",
    "# VB: Verb base form\n",
    "# JJ: Adjective\n",
    "# RB: Adverb\n",
    "# DT: Determiner\n",
    "# IN: Preposition or subordination conjunction"
   ]
  },
  {
   "cell_type": "markdown",
   "metadata": {},
   "source": [
    "### Sentiment Analysis with Vader"
   ]
  },
  {
   "cell_type": "code",
   "execution_count": 23,
   "metadata": {},
   "outputs": [
    {
     "data": {
      "text/plain": [
       "0    {'neg': 0.013, 'neu': 0.859, 'pos': 0.128, 'co...\n",
       "1    {'neg': 0.026, 'neu': 0.852, 'pos': 0.122, 'co...\n",
       "2    {'neg': 0.02, 'neu': 0.874, 'pos': 0.105, 'com...\n",
       "3    {'neg': 0.027, 'neu': 0.842, 'pos': 0.131, 'co...\n",
       "4    {'neg': 0.038, 'neu': 0.838, 'pos': 0.124, 'co...\n",
       "Name: sentiment, dtype: object"
      ]
     },
     "execution_count": 23,
     "metadata": {},
     "output_type": "execute_result"
    }
   ],
   "source": [
    "# Sentiment Analysis with Vader\n",
    "analyzer = SentimentIntensityAnalyzer()\n",
    "features['sentiment'] = transcript_data['Transcript'].apply(lambda x: analyzer.polarity_scores(x))\n",
    "\n",
    "features['sentiment'].head()"
   ]
  },
  {
   "cell_type": "markdown",
   "metadata": {},
   "source": [
    "### Word Embeddings with BERT"
   ]
  },
  {
   "cell_type": "code",
   "execution_count": 63,
   "metadata": {},
   "outputs": [],
   "source": [
    "# Word embeddings with BERT (Hugging Face)\n",
    "tokenizer = BertTokenizer.from_pretrained('bert-base-uncased')\n",
    "model = BertModel.from_pretrained('bert-base-uncased')"
   ]
  },
  {
   "cell_type": "code",
   "execution_count": 75,
   "metadata": {},
   "outputs": [
    {
     "data": {
      "text/plain": [
       "0    [0.20702131, -0.34244838, 0.10633592, 0.048458...\n",
       "1    [0.20338866, -0.42223412, -0.0042748153, -0.00...\n",
       "2    [0.31161746, -0.1706703, -0.094398715, 0.18208...\n",
       "3    [0.21430032, -0.4701396, -0.07055021, 0.125089...\n",
       "4    [0.17230614, -0.3761169, -0.10042618, -0.02611...\n",
       "Name: word embeddings, dtype: object"
      ]
     },
     "execution_count": 75,
     "metadata": {},
     "output_type": "execute_result"
    }
   ],
   "source": [
    "# Separate interveiw into sentences\n",
    "def process_transcript(text):\n",
    "  sentences = re.split(r'(?<=\\|)', text)\n",
    "  cleaned_sentences = [\n",
    "    re.sub(r'^(interviewer:|interviewee:)\\s*', '', s.strip().replace('|', '')) for s in sentences if s.strip()\n",
    "  ]\n",
    "  return cleaned_sentences\n",
    "\n",
    "transcript_data['Processed Transcript'] = transcript_data['Transcript'].apply(process_transcript)\n",
    "\n",
    "# Tokenize the text\n",
    "def get_bert_embeddings(sentences):\n",
    "  embeddings = []\n",
    "  for sentence in sentences:\n",
    "    # Tokenize and get input Id and attention mask\n",
    "    inputs = tokenizer(sentence, return_tensors=\"pt\", padding=\"max_length\", truncation=True, max_length=20)\n",
    "\n",
    "    # Use BERT\n",
    "    with torch.no_grad():\n",
    "      outputs = model(**inputs)\n",
    "\n",
    "    # Pool output\n",
    "    cls_embedding = outputs.last_hidden_state.mean(dim=1).squeeze().numpy()\n",
    "    embeddings.append(cls_embedding)\n",
    "\n",
    "  # Return an array that is the same size\n",
    "  return np.array(embeddings).flatten()[:6912]\n",
    "\n",
    "features['word embeddings'] = transcript_data['Processed Transcript'].apply(get_bert_embeddings)\n",
    "\n",
    "features['word embeddings'].head()"
   ]
  },
  {
   "cell_type": "markdown",
   "metadata": {},
   "source": [
    "### Language Features Extracted: \n",
    "- Syntactic Vectorization with CountVectorizer \n",
    "- Syntactic Vectorization with TFIDF Vectorizer\n",
    "- Word Count\n",
    "- Average Word Length\n",
    "- Part of Speech Tagging\n",
    "- Sentiment Analysis with Vader\n",
    "- Word Embedding with BERT\n",
    "\n",
    "A total of 7 distinctive features. \n",
    "\n",
    "The human readable features are: CountVectorizer because it is a count of the words throughout the interview, the Statistical Features, Part of Speech Tagging (with a little extra interpretation), and Sentiment Analysis with Vader."
   ]
  },
  {
   "cell_type": "markdown",
   "metadata": {},
   "source": [
    "# (b) Language feature selection"
   ]
  },
  {
   "cell_type": "code",
   "execution_count": 14,
   "metadata": {},
   "outputs": [],
   "source": [
    "import scipy.stats as stats"
   ]
  },
  {
   "cell_type": "markdown",
   "metadata": {},
   "source": [
    "For this section, we used 2 different filter feature selection methods to try to understand the data better. The first method we use is the pearsonr coefficient, which we used to compare word count, average word length, word frequency, and sentiment analysis. Then we used mutual information to compare all of the features we extracted. Mutual information was used because it is good at handling both low-dimensionality (eg Word Count) and high dimensionality (eg BERT embeddings) features and captures non-linear relationships between features and target variables.\n",
    "\n",
    "### Pearson Correlation Coefficient"
   ]
  },
  {
   "cell_type": "code",
   "execution_count": 15,
   "metadata": {},
   "outputs": [],
   "source": [
    "# Find correlation for the n (number) most impactful words from the word_count CountVectorizer\n",
    "def find_top_words(number):\n",
    "  overall_accumulator = []\n",
    "  excited_accumulator = []\n",
    "  for word in word_count.columns:\n",
    "    corr, _ = stats.pearsonr(word_count[word], scores_data[\"Overall\"])\n",
    "    overall_accumulator.append({\"Word\": word, \"Correlation\": corr})\n",
    "    corr, _ = stats.pearsonr(word_count[word], scores_data[\"Excited\"])\n",
    "    excited_accumulator.append({\"Word\": word, \"Correlation\": corr})\n",
    "\n",
    "  overall_corr = pd.DataFrame(overall_accumulator)\n",
    "  excited_corr = pd.DataFrame(excited_accumulator)\n",
    "\n",
    "  overall_corr[\"Abs Correlation\"] = overall_corr[\"Correlation\"].abs()\n",
    "  excited_corr[\"Abs Correlation\"] = excited_corr[\"Correlation\"].abs()\n",
    "\n",
    "  top_10_overall = overall_corr.nlargest(number, 'Abs Correlation')\n",
    "  top_10_excited = excited_corr.nlargest(number, 'Abs Correlation')\n",
    "\n",
    "  return [top_10_overall, top_10_excited]"
   ]
  },
  {
   "cell_type": "code",
   "execution_count": 25,
   "metadata": {},
   "outputs": [
    {
     "name": "stdout",
     "output_type": "stream",
     "text": [
      "[{'Feature': 'word count', 'Correlation': -0.010832826594586932}, {'Feature': 'avg word length', 'Correlation': -0.020966396429032398}, {'Feature': 'word - japan', 'Correlation': 0.3116019398220131}, {'Feature': 'word - biology', 'Correlation': -0.31097201147006703}, {'Feature': 'word - maryland', 'Correlation': 0.29124675739780165}, {'Feature': 'word - mission', 'Correlation': 0.28811120490706155}, {'Feature': 'word - pursue', 'Correlation': 0.28625158237729664}, {'Feature': 'word - clearly', 'Correlation': -0.2859562222369217}, {'Feature': 'word - platform', 'Correlation': 0.28335774652531837}, {'Feature': 'word - managers', 'Correlation': 0.28125396868822095}, {'Feature': 'word - parental', 'Correlation': 0.28125396868822095}, {'Feature': 'word - physiology', 'Correlation': 0.28125396868822095}, {'Feature': 'word - pressures', 'Correlation': 0.28125396868822095}, {'Feature': 'word - traverse', 'Correlation': 0.28125396868822095}, {'Feature': 'word - company', 'Correlation': 0.27382564679848503}, {'Feature': 'word - wall', 'Correlation': -0.27189119312169185}, {'Feature': 'word - securities', 'Correlation': -0.2698526968761178}, {'Feature': 'word - middle', 'Correlation': 0.26930301741541973}, {'Feature': 'word - screenings', 'Correlation': -0.26807151854086775}, {'Feature': 'word - thompson', 'Correlation': -0.26807151854086775}, {'Feature': 'word - directors', 'Correlation': 0.267284231257217}, {'Feature': 'word - successfully', 'Correlation': 0.25860152636764216}, {'Feature': 'sentiment - neg', 'Correlation': 0.02704040302462797}, {'Feature': 'sentiment - neu', 'Correlation': 0.2138409767800129}, {'Feature': 'sentiment - pos', 'Correlation': -0.23672228327025885}, {'Feature': 'sentiment - compound', 'Correlation': -0.020986279322347978}]\n",
      "[{'Feature': 'word count', 'Correlation': -0.025467214949939955}, {'Feature': 'avg word length', 'Correlation': 0.05949385633834199}, {'Feature': 'word - clearly', 'Correlation': -0.33838318791038074}, {'Feature': 'word - biology', 'Correlation': -0.3106039285168185}, {'Feature': 'word - commit', 'Correlation': -0.29198004582298936}, {'Feature': 'word - flying', 'Correlation': 0.28467275524271024}, {'Feature': 'word - screenings', 'Correlation': -0.27696002707179335}, {'Feature': 'word - thompson', 'Correlation': -0.27696002707179335}, {'Feature': 'word - like', 'Correlation': -0.2736777117351207}, {'Feature': 'word - florida', 'Correlation': -0.2644715855990684}, {'Feature': 'word - japan', 'Correlation': 0.2637283186353324}, {'Feature': 'word - aerospace', 'Correlation': 0.26372500074281047}, {'Feature': 'word - maryland', 'Correlation': 0.26207601977305234}, {'Feature': 'word - impossible', 'Correlation': 0.259795187496761}, {'Feature': 'word - main', 'Correlation': -0.25582944526680185}, {'Feature': 'word - aim', 'Correlation': -0.2479373309283901}, {'Feature': 'word - innovative', 'Correlation': -0.24722076264779017}, {'Feature': 'word - pursue', 'Correlation': 0.2417937362374349}, {'Feature': 'word - systems', 'Correlation': 0.23952221223371423}, {'Feature': 'word - view', 'Correlation': -0.2389058407897273}, {'Feature': 'word - platform', 'Correlation': 0.23734857834839856}, {'Feature': 'word - francisco', 'Correlation': -0.2369348267486927}, {'Feature': 'sentiment - neg', 'Correlation': -0.05860402686427631}, {'Feature': 'sentiment - neu', 'Correlation': 0.2623679828047537}, {'Feature': 'sentiment - pos', 'Correlation': -0.2580540579744481}, {'Feature': 'sentiment - compound', 'Correlation': -0.031640685344330496}]\n"
     ]
    }
   ],
   "source": [
    "# Using correlation to compare: word count, average word length, word frequency, and sentiment analysis\n",
    "\n",
    "feature_cols = [\"word count\", \"avg word length\"]\n",
    "outcome_cols = [\"Overall\", \"Excited\"]\n",
    "\n",
    "Overall_correlation = []\n",
    "Excited_correlation = []\n",
    "\n",
    "for feature in feature_cols:\n",
    "  corr, _ = stats.pearsonr(features[feature], scores_data[\"Overall\"])\n",
    "  Overall_correlation.append({\"Feature\": feature, \"Correlation\": corr})\n",
    "  corr, _ = stats.pearsonr(features[feature], scores_data[\"Excited\"])\n",
    "  Excited_correlation.append({\"Feature\": feature, \"Correlation\": corr})\n",
    "\n",
    "# Find correlation for the most impactful words from the word_count CountVectorizer\n",
    "top_overall, top_excited = find_top_words(20)\n",
    "\n",
    "for _, row in top_overall.iterrows():\n",
    "  Overall_correlation.append({\"Feature\": f\"word - {row['Word']}\", \"Correlation\": row['Correlation']})\n",
    "\n",
    "for _, row in top_excited.iterrows():\n",
    "  Excited_correlation.append({\"Feature\": f\"word - {row['Word']}\", \"Correlation\": row['Correlation']})\n",
    "\n",
    "# Find correlation for the sentiment analysis\n",
    "# Expand sentiment column into its own dictionary\n",
    "sentiment_df = features[\"sentiment\"].apply(pd.Series)\n",
    "for feature in ['neg', 'neu', 'pos', 'compound']:\n",
    "  corr, _ = stats.pearsonr(sentiment_df[feature], scores_data[\"Overall\"])\n",
    "  Overall_correlation.append({\"Feature\": f\"sentiment - {feature}\", \"Correlation\": corr})\n",
    "  corr, _ = stats.pearsonr(sentiment_df[feature], scores_data[\"Excited\"])\n",
    "  Excited_correlation.append({\"Feature\": f\"sentiment - {feature}\", \"Correlation\": corr})\n",
    "\n",
    "print(Overall_correlation)\n",
    "print(Excited_correlation)"
   ]
  },
  {
   "cell_type": "code",
   "execution_count": 28,
   "metadata": {},
   "outputs": [
    {
     "data": {
      "image/png": "[encoded data removed]",
      "text/plain": [
       "<Figure size 1200x600 with 2 Axes>"
      ]
     },
     "metadata": {},
     "output_type": "display_data"
    }
   ],
   "source": [
    "overall_corr_df = pd.DataFrame(Overall_correlation)\n",
    "overall_corr_df = overall_corr_df.rename(columns={'Correlation': 'Overall Correlation'})\n",
    "excited_corr_df = pd.DataFrame(Excited_correlation)\n",
    "excited_corr_df = excited_corr_df.rename(columns={'Correlation': 'Excited Correlation'})\n",
    "merged_df = pd.merge(overall_corr_df, excited_corr_df, how=\"outer\", on=\"Feature\")\n",
    "correlation_matrix = merged_df.set_index('Feature').T \n",
    "\n",
    "fig, axes = plt.subplots(1, 1, figsize=(12,6))\n",
    "\n",
    "#Plot overall correlation\n",
    "ax = sns.heatmap(correlation_matrix, annot=True, fmt=\".2f\", cmap='coolwarm', cbar=True)\n",
    "for t in ax.texts: t.set_rotation(90)\n",
    "axes.set_title('Correlation for Word Count, Avg Word Count, Word Frequency, and Sentiment Analysis')\n",
    "\n",
    "plt.tight_layout()\n",
    "plt.show()"
   ]
  },
  {
   "cell_type": "markdown",
   "metadata": {},
   "source": [
    "### Mutual Information"
   ]
  },
  {
   "cell_type": "code",
   "execution_count": 29,
   "metadata": {},
   "outputs": [],
   "source": [
    "from sklearn.feature_selection import mutual_info_regression\n",
    "from sklearn.preprocessing import LabelEncoder"
   ]
  },
  {
   "cell_type": "code",
   "execution_count": 76,
   "metadata": {},
   "outputs": [
    {
     "data": {
      "text/plain": [
       "(138, 6912)"
      ]
     },
     "execution_count": 76,
     "metadata": {},
     "output_type": "execute_result"
    }
   ],
   "source": [
    "np.vstack(features['word embeddings'].values).shape\n"
   ]
  },
  {
   "cell_type": "code",
   "execution_count": 88,
   "metadata": {},
   "outputs": [],
   "source": [
    "# Use Mutual Information as a filter feature selection method\n",
    "def get_top_10(X, feature_names):\n",
    "    for outcome in [\"Overall\", \"Excited\"]:\n",
    "        # Overall target\n",
    "        y = scores_data[outcome]\n",
    "\n",
    "        # Use mutual_info_regression for continuous target variable\n",
    "        mi = mutual_info_regression(X, y)\n",
    "\n",
    "        # Convert to a DataFrame to view the features and their MI scores\n",
    "        mi_df = pd.DataFrame({\n",
    "            'Feature': feature_names,\n",
    "            'MI Score': mi\n",
    "        })\n",
    "\n",
    "        # Sort by MI score to find the most relevant features\n",
    "        mi_df = mi_df.sort_values(by='MI Score', ascending=False)\n",
    "\n",
    "        # Display the top features with high MI score\n",
    "        print(\"\\nTop 10 features for: \", outcome)\n",
    "        print(mi_df.head(10))\n"
   ]
  },
  {
   "cell_type": "code",
   "execution_count": null,
   "metadata": {},
   "outputs": [
    {
     "name": "stdout",
     "output_type": "stream",
     "text": [
      "\n",
      "Top 10 features for:  Overall\n",
      "                   Feature  MI Score\n",
      "11245  word_embedding_6310  0.245164\n",
      "10383  word_embedding_5448  0.218354\n",
      "4973     word_embedding_38  0.216805\n",
      "10086  word_embedding_5151  0.214229\n",
      "7269   word_embedding_2334  0.208101\n",
      "9230   word_embedding_4295  0.201383\n",
      "10744  word_embedding_5809  0.198262\n",
      "10350  word_embedding_5415  0.195975\n",
      "10386  word_embedding_5451  0.195374\n",
      "5152    word_embedding_217  0.194965\n",
      "\n",
      "Top 10 features for:  Excited\n",
      "                   Feature  MI Score\n",
      "6480   word_embedding_1545  0.290656\n",
      "7218   word_embedding_2283  0.228260\n",
      "7114   word_embedding_2179  0.227142\n",
      "8745   word_embedding_3810  0.216444\n",
      "11651  word_embedding_6716  0.214998\n",
      "9683   word_embedding_4748  0.213138\n",
      "10235  word_embedding_5300  0.207523\n",
      "6642   word_embedding_1707  0.207262\n",
      "7197   word_embedding_2262  0.206933\n",
      "10409  word_embedding_5474  0.205788\n"
     ]
    }
   ],
   "source": [
    "# Find the top 10 contributing features to the results for both Overall and Excited\n",
    "\n",
    "word_emb_features = np.vstack(features['word embeddings'].values)\n",
    "# Combine all features in to a single matrix X\n",
    "X = np.hstack([X_dense, tfidf_matrix.toarray(), \n",
    "    features['word count'].values.reshape(-1, 1),\n",
    "    features['avg word length'].values.reshape(-1, 1),\n",
    "    features['pos tagging'].apply(len).values.reshape(-1, 1),\n",
    "    sentiment_df['neg'].values.reshape(-1, 1),\n",
    "    sentiment_df['neu'].values.reshape(-1, 1),\n",
    "    sentiment_df['pos'].values.reshape(-1, 1),\n",
    "    sentiment_df['compound'].values.reshape(-1, 1),\n",
    "    word_emb_features\n",
    "])\n",
    "\n",
    "feature_names = (\n",
    "    feature_names_count.tolist() + \n",
    "    feature_names_tf.tolist() + \n",
    "    [\"word_count\"] + \n",
    "    [\"avg_word_length\"] +\n",
    "    ['POS_tagging_length'] +\n",
    "    [\"neg\"] + [\"neu\"] + ['pos'] + ['compound'] +\n",
    "    ['word_embedding_' + str(i) for i in range(word_emb_features.shape[1])]\n",
    ")\n",
    "\n",
    "get_top_10(X, feature_names)"
   ]
  },
  {
   "cell_type": "markdown",
   "metadata": {},
   "source": [
    "These results are not incredibly human readable, so we took out the embeddings part to see what other features play a big role in the outputs."
   ]
  },
  {
   "cell_type": "code",
   "execution_count": 91,
   "metadata": {},
   "outputs": [
    {
     "name": "stdout",
     "output_type": "stream",
     "text": [
      "\n",
      "Top 10 features for:  Overall\n",
      "                 Feature  MI Score\n",
      "3654                kind  0.129006\n",
      "1385                 mit  0.125834\n",
      "2695             biology  0.119773\n",
      "4930  POS_tagging_length  0.117177\n",
      "2304                  uh  0.111118\n",
      "590            different  0.110044\n",
      "4696               think  0.103938\n",
      "399              company  0.103381\n",
      "2427                work  0.098216\n",
      "4916                year  0.097138\n",
      "\n",
      "Top 10 features for:  Excited\n",
      "          Feature  MI Score\n",
      "3054    different  0.146994\n",
      "922          goal  0.134939\n",
      "1903          say  0.125971\n",
      "2390          way  0.123290\n",
      "3208      example  0.121205\n",
      "2381       wanted  0.117077\n",
      "3380        given  0.116458\n",
      "3948         okay  0.116199\n",
      "590     different  0.113653\n",
      "1144  interviewer  0.105936\n"
     ]
    }
   ],
   "source": [
    "# Lets do a more human readable version of this (since word embedding isn't very human readable)\n",
    "\n",
    "# Combine all features in to a single matrix X\n",
    "X = np.hstack([X_dense, tfidf_matrix.toarray(), \n",
    "    features['word count'].values.reshape(-1, 1),\n",
    "    features['avg word length'].values.reshape(-1, 1),\n",
    "    features['pos tagging'].apply(len).values.reshape(-1, 1),\n",
    "    sentiment_df['neg'].values.reshape(-1, 1),\n",
    "    sentiment_df['neu'].values.reshape(-1, 1),\n",
    "    sentiment_df['pos'].values.reshape(-1, 1),\n",
    "    sentiment_df['compound'].values.reshape(-1, 1)\n",
    "])\n",
    "\n",
    "feature_names = (\n",
    "    feature_names_count.tolist() + \n",
    "    feature_names_tf.tolist() + \n",
    "    [\"word_count\"] + \n",
    "    [\"avg_word_length\"] +\n",
    "    ['POS_tagging_length'] +\n",
    "    [\"neg\"] + [\"neu\"] + ['pos'] + ['compound']\n",
    ")\n",
    "\n",
    "get_top_10(X, feature_names)"
   ]
  },
  {
   "cell_type": "markdown",
   "metadata": {},
   "source": [
    "Explore a filter feature selection method of your choice to identify the k features belonging to the interpretable feature set from question (a) that are the most relevant to the two considered outcomes. Please discuss your findings and how these measures can be used to provide actionable insights to the user.\n",
    "\n",
    "Along with discussing the strength of the association between each feature and each outcome, also comment on the direction of the association."
   ]
  },
  {
   "cell_type": "markdown",
   "metadata": {},
   "source": [
    "# (c) Estimating interview outcomes based on language"
   ]
  },
  {
   "cell_type": "markdown",
   "metadata": {},
   "source": []
  },
  {
   "cell_type": "markdown",
   "metadata": {},
   "source": [
    "# (d) Multimodal ML models"
   ]
  },
  {
   "cell_type": "markdown",
   "metadata": {},
   "source": []
  },
  {
   "cell_type": "markdown",
   "metadata": {},
   "source": [
    "# (e) Explainable ML"
   ]
  },
  {
   "cell_type": "markdown",
   "metadata": {},
   "source": []
  }
 ],
 "metadata": {
  "kernelspec": {
   "display_name": "Python 3",
   "language": "python",
   "name": "python3"
  },
  "language_info": {
   "codemirror_mode": {
    "name": "ipython",
    "version": 3
   },
   "file_extension": ".py",
   "mimetype": "text/x-python",
   "name": "python",
   "nbconvert_exporter": "python",
   "pygments_lexer": "ipython3",
   "version": "3.11.9"
  }
 },
 "nbformat": 4,
 "nbformat_minor": 2
}
