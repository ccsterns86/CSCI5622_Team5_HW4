{
 "cells": [
  {
   "cell_type": "markdown",
   "metadata": {
    "vscode": {
     "languageId": "plaintext"
    }
   },
   "source": [
    "# CSCI 5622\n",
    "## Homework 4: Designing ML Models for Real-World Problems\n",
    "### Team 5 - Study 2\n",
    "##### Cassie Sterns, Saksham Khatwani, Jasdeep Singh, and Nirmit Karkera"
   ]
  },
  {
   "cell_type": "code",
   "execution_count": 1,
   "metadata": {},
   "outputs": [],
   "source": [
    "import pandas as pd\n",
    "import numpy as np\n",
    "import statistics as stat\n",
    "import seaborn as sns\n",
    "import matplotlib.pyplot as plt\n",
    "import random\n",
    "import re"
   ]
  },
  {
   "cell_type": "code",
   "execution_count": 14,
   "metadata": {},
   "outputs": [],
   "source": [
    "# Reading in data\n",
    "prosodic_file = \"prosodic_features.csv\"\n",
    "scores_file = \"scores.csv\"\n",
    "transcript_file = \"transcripts.csv\"\n",
    "\n",
    "# Read csvs into a file\n",
    "prosodic_data = pd.read_csv(prosodic_file)\n",
    "scores_data = pd.read_csv(scores_file)\n",
    "transcript_data = pd.read_csv(transcript_file)\n",
    "\n",
    "# Add a column that corresponds to participant for easy splitting for prosodic data\n",
    "prosodic_data['Participant'] = prosodic_data['participant&question'].str.extract(r'^(PP?\\d+)')\n",
    "prosodic_data['Participant'] = prosodic_data['Participant'].str.lower()\n"
   ]
  },
  {
   "cell_type": "code",
   "execution_count": 3,
   "metadata": {},
   "outputs": [
    {
     "name": "stdout",
     "output_type": "stream",
     "text": [
      "Fold 1: ['17', '50', '3', '21', '74', '65', '32', '1', '60', '6', '83', '56', '84', '64']\n",
      "\tLength:  14\n",
      "Fold 2: ['52', '59', '7', '71', '14', '22', '11', '67', '5', '49', '34', '37', '89', '44']\n",
      "\tLength:  14\n",
      "Fold 3: ['79', '66', '81', '4', '80', '70', '16', '25', '33', '62', '63', '48', '20', '85']\n",
      "\tLength:  14\n",
      "Fold 4: ['76', '29', '55', '27', '73', '10', '8', '42', '72', '58', '43', '86', '57', '12']\n",
      "\tLength:  14\n",
      "Fold 5: ['53', '78', '13', '15', '45', '24', '30', '47', '31', '61', '69', '77', '35']\n",
      "\tLength:  13\n"
     ]
    }
   ],
   "source": [
    "# Splitting the participants into 5 folds\n",
    "num_folds = 5\n",
    "\n",
    "# Grab participant numbers from the scores csv file\n",
    "interviews = scores_data['Participant'].unique()\n",
    "participants = list(set([re.sub(r'^pp?|q\\d+', '', item) for item in interviews]))\n",
    "random.shuffle(participants)\n",
    "participant_folds = [participants[i::num_folds] for i in range(num_folds)]\n",
    "\n",
    "for i, fold in enumerate(participant_folds):\n",
    "  print(f\"Fold {i + 1}: {fold}\")\n",
    "  print(\"\\tLength: \", len(fold))\n",
    "\n",
    "# Grab all the correct interview names associated with each participant\n",
    "interview_folds = []\n",
    "for fold in participant_folds:\n",
    "  interview_folds.append([item for num in fold for item in (f\"p{num}\", f\"pp{num}\")])\n"
   ]
  },
  {
   "cell_type": "code",
   "execution_count": 4,
   "metadata": {},
   "outputs": [],
   "source": [
    "def get_data_splits(data, fold_number):\n",
    "    \"\"\"\n",
    "    Split data into training, validation, and testing sets based on a specified fold.\n",
    "    \n",
    "    Parameters:\n",
    "        data (DataFrame): The complete dataset.\n",
    "        fold_number (int): The fold to use for testing (0-based index).\n",
    "        \n",
    "    Returns:\n",
    "        tuple: (training_set, validation_set, testing_set)\n",
    "    \"\"\"\n",
    "    # Quick check on fold number\n",
    "    assert 0 <= fold_number < len(interview_folds), \"Fold_number must be between 0 and len(folds) - 1\"\n",
    "\n",
    "    # Split the data\n",
    "    test_set = data[data['Participant'].isin( interview_folds[fold_number] )]\n",
    "    val_set = data[data['Participant'].isin( interview_folds[(fold_number + 1) % len(interview_folds)] )]\n",
    "    train_set_parts = [item for i, fold in enumerate(interview_folds) if i not in [fold_number, (fold_number + 1) % len(interview_folds)] for item in fold]\n",
    "    train_set = data[data['Participant'].isin(train_set_parts)]\n",
    "    \n",
    "    return train_set, val_set, test_set\n"
   ]
  },
  {
   "cell_type": "code",
   "execution_count": 17,
   "metadata": {},
   "outputs": [],
   "source": [
    "train_set, val_set, test_set = get_data_splits(prosodic_data, 0)\n",
    "# print(\"Prosodic Data: \")\n",
    "# train_set.head()\n",
    "train_set, val_set, test_set = get_data_splits(scores_data, 0)\n",
    "# print(\"Scores Data: \")\n",
    "# test_set.head()\n",
    "train_set, val_set, test_set = get_data_splits(transcript_data, 0)\n",
    "# print(\"Transcript Data: \")\n",
    "# test_set.head()"
   ]
  },
  {
   "cell_type": "markdown",
   "metadata": {},
   "source": [
    "# (a) Extracting language features"
   ]
  },
  {
   "cell_type": "code",
   "execution_count": null,
   "metadata": {},
   "outputs": [],
   "source": []
  },
  {
   "cell_type": "markdown",
   "metadata": {},
   "source": [
    "# (b) Language feature selection"
   ]
  },
  {
   "cell_type": "markdown",
   "metadata": {},
   "source": []
  },
  {
   "cell_type": "markdown",
   "metadata": {},
   "source": [
    "# (c) Estimating interview outcomes based on language"
   ]
  },
  {
   "cell_type": "markdown",
   "metadata": {},
   "source": []
  },
  {
   "cell_type": "markdown",
   "metadata": {},
   "source": [
    "# (d) Multimodal ML models"
   ]
  },
  {
   "cell_type": "markdown",
   "metadata": {},
   "source": []
  },
  {
   "cell_type": "markdown",
   "metadata": {},
   "source": [
    "# (e) Explainable ML"
   ]
  },
  {
   "cell_type": "markdown",
   "metadata": {},
   "source": []
  }
 ],
 "metadata": {
  "kernelspec": {
   "display_name": "Python 3",
   "language": "python",
   "name": "python3"
  },
  "language_info": {
   "codemirror_mode": {
    "name": "ipython",
    "version": 3
   },
   "file_extension": ".py",
   "mimetype": "text/x-python",
   "name": "python",
   "nbconvert_exporter": "python",
   "pygments_lexer": "ipython3",
   "version": "3.11.9"
  }
 },
 "nbformat": 4,
 "nbformat_minor": 2
}
